{
 "cells": [
  {
   "cell_type": "code",
   "execution_count": 12,
   "metadata": {},
   "outputs": [],
   "source": [
    "# Inheritance and Polymorphism in Python"
   ]
  },
  {
   "cell_type": "code",
   "execution_count": 7,
   "metadata": {},
   "outputs": [],
   "source": [
    "\n",
    "import math\n",
    " \n",
    "class Shape:\n",
    " \n",
    "    def __init__(self, color='black', filled=False):\n",
    "        self.__color = color\n",
    "        self.__filled = filled\n",
    " \n",
    "    def get_color(self):\n",
    "        return self.__color\n",
    " \n",
    "    def set_color(self, color):\n",
    "        self.__color = color\n",
    " \n",
    "    def get_filled(self):\n",
    "        return self.__filled\n",
    " \n",
    "    def set_filled(self, filled):\n",
    "        self.__filled = filled\n",
    " \n",
    " "
   ]
  },
  {
   "cell_type": "code",
   "execution_count": 8,
   "metadata": {},
   "outputs": [],
   "source": [
    "\n",
    "class Rectangle(Shape):\n",
    " \n",
    "    def __init__(self, length, breadth):\n",
    "        super().__init__()\n",
    "        self.__length = length\n",
    "        self.__breadth = breadth\n",
    " \n",
    "    def get_length(self):\n",
    "        return self.__length\n",
    " \n",
    "    def set_length(self, length):\n",
    "        self.__length = length\n",
    " \n",
    "    def get_breadth(self):\n",
    "        return self.__breadth\n",
    " \n",
    "    def set_breadth(self, breadth):\n",
    "        self.__breadth = breadth\n",
    " \n",
    "    def get_area(self):\n",
    "        return self.__length * self.__breadth\n",
    " \n",
    "    def get_perimeter(self):\n",
    "        return 2 * (self.__length + self.__breadth)\n",
    " \n",
    " \n",
    "class Circle(Shape):\n",
    "    def __init__(self, radius):\n",
    "        super().__init__()\n",
    "        self.__radius = radius\n",
    " \n",
    "    def get_radius(self):\n",
    "        return self.__radius\n",
    " \n",
    "    def set_radius(self, radius):\n",
    "        self.__radius = radius\n",
    " \n",
    "    def get_area(self):\n",
    "        return math.pi * self.__radius ** 2\n",
    " \n",
    "    def get_perimeter(self):\n",
    "        return 2 * math.pi * self.__radius\n",
    " \n",
    " "
   ]
  },
  {
   "cell_type": "code",
   "execution_count": 9,
   "metadata": {},
   "outputs": [
    {
     "name": "stdout",
     "output_type": "stream",
     "text": [
      "Area of rectangle r1: 26.25\n",
      "Perimeter of rectangle r1: 26.0\n",
      "Color of rectangle r1: black\n",
      "Is rectangle r1 filled ?  False\n",
      "Is rectangle r1 filled ?  True\n",
      "Color of rectangle r1: orange\n",
      "\n",
      "Area of circle c1: 452.39\n",
      "Perimeter of circle c1: 75.40\n",
      "Color of circle c1: black\n",
      "Is circle c1 filled ?  False\n",
      "Is circle c1 filled ?  True\n",
      "Color of circle c1: blue\n"
     ]
    }
   ],
   "source": [
    "\n",
    "r1 = Rectangle(10.5, 2.5)\n",
    " \n",
    "print(\"Area of rectangle r1:\", r1.get_area())\n",
    "print(\"Perimeter of rectangle r1:\", r1.get_perimeter())\n",
    "print(\"Color of rectangle r1:\", r1.get_color())\n",
    "print(\"Is rectangle r1 filled ? \", r1.get_filled())\n",
    "r1.set_filled(True)\n",
    "print(\"Is rectangle r1 filled ? \", r1.get_filled())\n",
    "r1.set_color(\"orange\")\n",
    "print(\"Color of rectangle r1:\", r1.get_color())\n",
    " \n",
    "c1 = Circle(12)\n",
    " \n",
    "print(\"\\nArea of circle c1:\", format(c1.get_area(), \"0.2f\"))\n",
    "print(\"Perimeter of circle c1:\", format(c1.get_perimeter(), \"0.2f\"))\n",
    "print(\"Color of circle c1:\", c1.get_color())\n",
    "print(\"Is circle c1 filled ? \", c1.get_filled())\n",
    "c1.set_filled(True)\n",
    "print(\"Is circle c1 filled ? \", c1.get_filled())\n",
    "c1.set_color(\"blue\")\n",
    "print(\"Color of circle c1:\", c1.get_color())"
   ]
  },
  {
   "cell_type": "code",
   "execution_count": null,
   "metadata": {},
   "outputs": [],
   "source": []
  }
 ],
 "metadata": {
  "kernelspec": {
   "display_name": "Python 3",
   "language": "python",
   "name": "python3"
  },
  "language_info": {
   "codemirror_mode": {
    "name": "ipython",
    "version": 3
   },
   "file_extension": ".py",
   "mimetype": "text/x-python",
   "name": "python",
   "nbconvert_exporter": "python",
   "pygments_lexer": "ipython3",
   "version": "3.7.6"
  }
 },
 "nbformat": 4,
 "nbformat_minor": 4
}
